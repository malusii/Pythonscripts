{
 "cells": [
  {
   "cell_type": "markdown",
   "id": "d9fbde3f",
   "metadata": {},
   "source": [
    "## Lists"
   ]
  },
  {
   "cell_type": "code",
   "execution_count": 1,
   "id": "43823ed3",
   "metadata": {},
   "outputs": [],
   "source": [
    "my_list =[] # Create an empty list"
   ]
  },
  {
   "cell_type": "code",
   "execution_count": 2,
   "id": "308b2b0d",
   "metadata": {},
   "outputs": [
    {
     "name": "stdout",
     "output_type": "stream",
     "text": [
      "4\n"
     ]
    }
   ],
   "source": [
    "numbers_list = [0,1,2,3,4]\n",
    "print(numbers_list[-1])"
   ]
  },
  {
   "cell_type": "code",
   "execution_count": 3,
   "id": "41847225",
   "metadata": {},
   "outputs": [],
   "source": [
    "List_within_list = [[\"a\",2],1.6]"
   ]
  },
  {
   "cell_type": "code",
   "execution_count": 4,
   "id": "e0af4663",
   "metadata": {},
   "outputs": [
    {
     "data": {
      "text/plain": [
       "2"
      ]
     },
     "execution_count": 4,
     "metadata": {},
     "output_type": "execute_result"
    }
   ],
   "source": [
    "List_within_list[0][1]"
   ]
  },
  {
   "cell_type": "code",
   "execution_count": 5,
   "id": "60d87df0",
   "metadata": {},
   "outputs": [
    {
     "data": {
      "text/plain": [
       "2"
      ]
     },
     "execution_count": 5,
     "metadata": {},
     "output_type": "execute_result"
    }
   ],
   "source": [
    "List_within_list[0][-1]"
   ]
  },
  {
   "cell_type": "code",
   "execution_count": 6,
   "id": "56501738",
   "metadata": {},
   "outputs": [],
   "source": [
    "#Lists have methods\n",
    "numbers_list.append(\"a\")"
   ]
  },
  {
   "cell_type": "code",
   "execution_count": 7,
   "id": "8f7dee5c",
   "metadata": {},
   "outputs": [
    {
     "name": "stdout",
     "output_type": "stream",
     "text": [
      "[0, 1, 2, 3, 4, 'a']\n"
     ]
    }
   ],
   "source": [
    "print(numbers_list)"
   ]
  },
  {
   "cell_type": "code",
   "execution_count": 8,
   "id": "9e29d0f4",
   "metadata": {},
   "outputs": [],
   "source": [
    "numbers_list.extend('f')"
   ]
  },
  {
   "cell_type": "code",
   "execution_count": 9,
   "id": "6bdee05d",
   "metadata": {},
   "outputs": [
    {
     "name": "stdout",
     "output_type": "stream",
     "text": [
      "[0, 1, 2, 3, 4, 'a', 'f']\n"
     ]
    }
   ],
   "source": [
    "print(numbers_list)"
   ]
  },
  {
   "cell_type": "code",
   "execution_count": 10,
   "id": "50d0883d",
   "metadata": {},
   "outputs": [
    {
     "data": {
      "text/plain": [
       "'f'"
      ]
     },
     "execution_count": 10,
     "metadata": {},
     "output_type": "execute_result"
    }
   ],
   "source": [
    "numbers_list.pop(-1)"
   ]
  },
  {
   "cell_type": "code",
   "execution_count": 11,
   "id": "fcb5f21b",
   "metadata": {},
   "outputs": [],
   "source": [
    "del numbers_list[-1]"
   ]
  },
  {
   "cell_type": "code",
   "execution_count": 12,
   "id": "ce0e8867",
   "metadata": {},
   "outputs": [
    {
     "data": {
      "text/plain": [
       "[0, 1, 2, 3, 4]"
      ]
     },
     "execution_count": 12,
     "metadata": {},
     "output_type": "execute_result"
    }
   ],
   "source": [
    "numbers_list"
   ]
  },
  {
   "cell_type": "code",
   "execution_count": 13,
   "id": "dc749d71",
   "metadata": {},
   "outputs": [],
   "source": [
    "del numbers_list[0:1]"
   ]
  },
  {
   "cell_type": "code",
   "execution_count": 14,
   "id": "a9a4d2a6",
   "metadata": {},
   "outputs": [
    {
     "data": {
      "text/plain": [
       "[1, 2, 3, 4]"
      ]
     },
     "execution_count": 14,
     "metadata": {},
     "output_type": "execute_result"
    }
   ],
   "source": [
    "numbers_list"
   ]
  },
  {
   "cell_type": "markdown",
   "id": "280ec611",
   "metadata": {},
   "source": [
    "## Sets"
   ]
  },
  {
   "cell_type": "code",
   "execution_count": 15,
   "id": "04753f6a",
   "metadata": {},
   "outputs": [],
   "source": [
    "# Sets are somehow similar to lists but the difference is that duplicates are not allowed\n",
    "# For sets we use curly brackets instead of of square brackets\n",
    "Set_1 = {\"A\",\"A\",\"C\",\"D\",\"F\",\"J\"}"
   ]
  },
  {
   "cell_type": "code",
   "execution_count": 16,
   "id": "00dcb7eb",
   "metadata": {},
   "outputs": [
    {
     "name": "stdout",
     "output_type": "stream",
     "text": [
      "{'C', 'D', 'J', 'A', 'F'}\n"
     ]
    }
   ],
   "source": [
    "print(Set_1)"
   ]
  },
  {
   "cell_type": "code",
   "execution_count": 17,
   "id": "4fc16cdf",
   "metadata": {},
   "outputs": [
    {
     "name": "stdout",
     "output_type": "stream",
     "text": [
      "{'C', 'D', 'J', 'A', 'F'}\n"
     ]
    }
   ],
   "source": [
    "print(Set_1) # result proves that sets are not duplicated"
   ]
  },
  {
   "cell_type": "code",
   "execution_count": 18,
   "id": "db6101d0",
   "metadata": {},
   "outputs": [
    {
     "name": "stdout",
     "output_type": "stream",
     "text": [
      "{'C', 'D', 'J', 'A', 'F'}\n"
     ]
    }
   ],
   "source": [
    "# In sets, the order is not guaranteed\n",
    "print(Set_1)"
   ]
  },
  {
   "cell_type": "code",
   "execution_count": 19,
   "id": "3e33296f",
   "metadata": {},
   "outputs": [
    {
     "name": "stdout",
     "output_type": "stream",
     "text": [
      "{'C', 'D', 'J', 'A', 'F'}\n"
     ]
    }
   ],
   "source": [
    "print(Set_1)"
   ]
  },
  {
   "cell_type": "markdown",
   "id": "e62344a8",
   "metadata": {},
   "source": [
    "## Dictionaries"
   ]
  },
  {
   "cell_type": "code",
   "execution_count": 20,
   "id": "953a6d33",
   "metadata": {},
   "outputs": [],
   "source": [
    "# Dictionaries store a key-value pair\n",
    "\n",
    "person = {\"name\":\"Malusi\",\"name_2\":\"Madala\",\"name_3\":\"Pheloz\"}\n"
   ]
  },
  {
   "cell_type": "code",
   "execution_count": 21,
   "id": "75b86faa",
   "metadata": {},
   "outputs": [
    {
     "data": {
      "text/plain": [
       "'Malusi'"
      ]
     },
     "execution_count": 21,
     "metadata": {},
     "output_type": "execute_result"
    }
   ],
   "source": [
    "person[\"name\"]"
   ]
  },
  {
   "cell_type": "code",
   "execution_count": 22,
   "id": "fb51b06c",
   "metadata": {},
   "outputs": [
    {
     "data": {
      "text/plain": [
       "'Malusi'"
      ]
     },
     "execution_count": 22,
     "metadata": {},
     "output_type": "execute_result"
    }
   ],
   "source": [
    "person.get(\"name\")"
   ]
  },
  {
   "cell_type": "code",
   "execution_count": 23,
   "id": "89b4c0e1",
   "metadata": {},
   "outputs": [
    {
     "data": {
      "text/plain": [
       "dict_keys(['name', 'name_2', 'name_3'])"
      ]
     },
     "execution_count": 23,
     "metadata": {},
     "output_type": "execute_result"
    }
   ],
   "source": [
    "person.keys()"
   ]
  },
  {
   "cell_type": "code",
   "execution_count": 24,
   "id": "b7aaa902",
   "metadata": {},
   "outputs": [
    {
     "data": {
      "text/plain": [
       "dict_values(['Malusi', 'Madala', 'Pheloz'])"
      ]
     },
     "execution_count": 24,
     "metadata": {},
     "output_type": "execute_result"
    }
   ],
   "source": [
    "person.values()"
   ]
  },
  {
   "cell_type": "markdown",
   "id": "5547cc57",
   "metadata": {},
   "source": [
    "## Loops\n"
   ]
  },
  {
   "cell_type": "code",
   "execution_count": 25,
   "id": "4bd07972",
   "metadata": {},
   "outputs": [],
   "source": [
    "# Looping through a list\n",
    "dogs = [\"pit bull\",\"bullteria\",\"German_sherpard\",\"Greyhound\",\"Jackal\",\"Wolf\" ]\n"
   ]
  },
  {
   "cell_type": "code",
   "execution_count": 26,
   "id": "5c60fd68",
   "metadata": {},
   "outputs": [
    {
     "name": "stdout",
     "output_type": "stream",
     "text": [
      "The index for Jackal has not been reached\n",
      "The index for Jackal has not been reached\n",
      "The index for Jackal has not been reached\n",
      "The index for Jackal has not been reached\n",
      "Jackal is at index 4\n",
      "The index for Jackal has not been reached\n"
     ]
    }
   ],
   "source": [
    "b=-1\n",
    "for i in dogs:\n",
    "    b=b+1\n",
    "    if i==\"Jackal\":\n",
    "        print(\"Jackal is at index {}\".format(b))\n",
    "    else:\n",
    "        print(\"The index for Jackal has not been reached\")"
   ]
  },
  {
   "cell_type": "code",
   "execution_count": 27,
   "id": "d67ae748",
   "metadata": {},
   "outputs": [
    {
     "name": "stdout",
     "output_type": "stream",
     "text": [
      "name\n",
      "name_2\n",
      "name_3\n"
     ]
    }
   ],
   "source": [
    "#Looping trough a dictionary\n",
    "for value in person:\n",
    "    print(value)"
   ]
  },
  {
   "cell_type": "code",
   "execution_count": 30,
   "id": "ee88a172",
   "metadata": {},
   "outputs": [
    {
     "name": "stdout",
     "output_type": "stream",
     "text": [
      "name,Malusi\n",
      "name_2,Madala\n",
      "name_3,Pheloz\n"
     ]
    }
   ],
   "source": [
    "for key,value in person.items():\n",
    "    print(\"{},{}\".format(key,value))"
   ]
  },
  {
   "cell_type": "markdown",
   "id": "58e58b23",
   "metadata": {},
   "source": [
    "## Exercise"
   ]
  },
  {
   "cell_type": "code",
   "execution_count": 32,
   "id": "e286e768",
   "metadata": {},
   "outputs": [],
   "source": [
    "# Sum up all the numbers in a list\n",
    "numbers_= [1,3,5,6,7,9]"
   ]
  },
  {
   "cell_type": "code",
   "execution_count": 33,
   "id": "0dd229a8",
   "metadata": {},
   "outputs": [],
   "source": [
    "Sum = numbers_[0]+numbers_[1]+numbers_[2]+numbers_[3]+numbers_[4]+numbers_[5]"
   ]
  },
  {
   "cell_type": "code",
   "execution_count": 34,
   "id": "f1c7b996",
   "metadata": {},
   "outputs": [
    {
     "name": "stdout",
     "output_type": "stream",
     "text": [
      "31\n"
     ]
    }
   ],
   "source": [
    "print(Sum)"
   ]
  },
  {
   "cell_type": "code",
   "execution_count": 38,
   "id": "266e427b",
   "metadata": {},
   "outputs": [
    {
     "name": "stdout",
     "output_type": "stream",
     "text": [
      "31\n"
     ]
    }
   ],
   "source": [
    "sum=0\n",
    "for add in numbers_:\n",
    "    sum = add+sum\n",
    "    if add is numbers_[5]:\n",
    "        print(sum)\n",
    "    \n",
    "    \n"
   ]
  },
  {
   "cell_type": "code",
   "execution_count": 40,
   "id": "997b9b5c",
   "metadata": {},
   "outputs": [
    {
     "name": "stdout",
     "output_type": "stream",
     "text": [
      "Not done\n",
      "Not done\n",
      "Not done\n",
      "Not done\n",
      "Not done\n",
      "Not done\n",
      "Not done\n",
      "Not done\n",
      "Not done\n",
      "Not done\n",
      "Not done\n",
      "Done,get out of the loop\n"
     ]
    }
   ],
   "source": [
    "# The while loop\n",
    "# The while loop loops and stops only when the condition is true and the condition needs to be updated to avoid endless looping.\n",
    "s=0\n",
    "while s<=10:\n",
    "    print(\"Not done\")\n",
    "    s=s+1\n",
    "else:\n",
    "    print(\"Done,get out of the loop\")"
   ]
  },
  {
   "cell_type": "code",
   "execution_count": 41,
   "id": "c65de221",
   "metadata": {},
   "outputs": [
    {
     "name": "stdout",
     "output_type": "stream",
     "text": [
      "Not done\n",
      "Not done\n",
      "Not done\n",
      "Not done\n",
      "Not done\n",
      "Not done\n"
     ]
    }
   ],
   "source": [
    "# break and continue are used with loops as follows\n",
    "s=0\n",
    "while s<=10:\n",
    "    print(\"Not done\")\n",
    "    s=s+1\n",
    "    if s==6:\n",
    "        break # breaks out of the loop if s =6 and the else statement is not executed\n",
    "else:\n",
    "    print(\"Done,get out of the loop\")"
   ]
  },
  {
   "cell_type": "code",
   "execution_count": 46,
   "id": "bdac5b4b",
   "metadata": {},
   "outputs": [
    {
     "name": "stdout",
     "output_type": "stream",
     "text": [
      "Not done\n",
      "Not done\n",
      "Not done\n",
      "Not done\n",
      "Not done\n",
      "Not done\n",
      "Not done\n",
      "Not done\n",
      "Not done\n",
      "Not done\n",
      "Not done\n",
      "Finally s is greater than 7\n"
     ]
    }
   ],
   "source": [
    "s=0\n",
    "while s<=10:\n",
    "    print(\"Not done\")\n",
    "    s=s+1\n",
    "    if s<7:\n",
    "        continue # breaks out of the loop if s =6 and the else statement is not executed\n",
    "print(\"Finally s is greater than 7\")\n"
   ]
  },
  {
   "cell_type": "code",
   "execution_count": null,
   "id": "1035b084",
   "metadata": {},
   "outputs": [],
   "source": []
  }
 ],
 "metadata": {
  "kernelspec": {
   "display_name": "Python 3 (ipykernel)",
   "language": "python",
   "name": "python3"
  },
  "language_info": {
   "codemirror_mode": {
    "name": "ipython",
    "version": 3
   },
   "file_extension": ".py",
   "mimetype": "text/x-python",
   "name": "python",
   "nbconvert_exporter": "python",
   "pygments_lexer": "ipython3",
   "version": "3.9.7"
  },
  "toc": {
   "base_numbering": 1,
   "nav_menu": {},
   "number_sections": true,
   "sideBar": true,
   "skip_h1_title": false,
   "title_cell": "Table of Contents",
   "title_sidebar": "Contents",
   "toc_cell": false,
   "toc_position": {},
   "toc_section_display": true,
   "toc_window_display": false
  }
 },
 "nbformat": 4,
 "nbformat_minor": 5
}
