{
 "cells": [
  {
   "cell_type": "markdown",
   "id": "e06006dd",
   "metadata": {},
   "source": [
    "## Functions"
   ]
  },
  {
   "cell_type": "code",
   "execution_count": 1,
   "id": "b6ca6ffb",
   "metadata": {},
   "outputs": [],
   "source": [
    "def greet():\n",
    "    print(\"hello guys\")\n",
    "    "
   ]
  },
  {
   "cell_type": "code",
   "execution_count": 2,
   "id": "0fbef7da",
   "metadata": {},
   "outputs": [
    {
     "name": "stdout",
     "output_type": "stream",
     "text": [
      "hello guys\n",
      "None\n"
     ]
    }
   ],
   "source": [
    "print(greet())"
   ]
  },
  {
   "cell_type": "code",
   "execution_count": 3,
   "id": "1ccbd63b",
   "metadata": {},
   "outputs": [],
   "source": [
    "# With functions we can pass arguments\n",
    "def salute(name): # The variable that accepts the ppased argument is called the parser.\n",
    "    print(\"hello {}, how have you been?\".format(name))\n",
    "    "
   ]
  },
  {
   "cell_type": "code",
   "execution_count": 4,
   "id": "d5ffe0cf",
   "metadata": {},
   "outputs": [
    {
     "name": "stdout",
     "output_type": "stream",
     "text": [
      "hello John, how have you been?\n"
     ]
    }
   ],
   "source": [
    "salute(\"John\")"
   ]
  },
  {
   "cell_type": "code",
   "execution_count": 5,
   "id": "7d89e031",
   "metadata": {},
   "outputs": [],
   "source": [
    "# More than one argument can be passed\n",
    "def cars(model_1,model_2):\n",
    "    print(\" The first model of a BMW was a {} and later after {} was released\".format(model_1,model_2))\n",
    "    "
   ]
  },
  {
   "cell_type": "code",
   "execution_count": 6,
   "id": "09755e2c",
   "metadata": {},
   "outputs": [
    {
     "name": "stdout",
     "output_type": "stream",
     "text": [
      " The first model of a BMW was a 3-Series and later after 5-Series was released\n"
     ]
    }
   ],
   "source": [
    "cars(\"3-Series\",\"5-Series\")"
   ]
  },
  {
   "cell_type": "markdown",
   "id": "44197a13",
   "metadata": {},
   "source": [
    "## Creating Modules"
   ]
  },
  {
   "cell_type": "code",
   "execution_count": 8,
   "id": "82f8a5ee",
   "metadata": {},
   "outputs": [],
   "source": [
    "import calculator as cal"
   ]
  },
  {
   "cell_type": "code",
   "execution_count": 9,
   "id": "e8b2ad4c",
   "metadata": {},
   "outputs": [
    {
     "data": {
      "text/plain": [
       "3"
      ]
     },
     "execution_count": 9,
     "metadata": {},
     "output_type": "execute_result"
    }
   ],
   "source": [
    "cal.count(1,2)"
   ]
  },
  {
   "cell_type": "markdown",
   "id": "87d1ed3c",
   "metadata": {},
   "source": [
    "## Classes"
   ]
  },
  {
   "cell_type": "code",
   "execution_count": 13,
   "id": "ce1deaa8",
   "metadata": {},
   "outputs": [
    {
     "name": "stdout",
     "output_type": "stream",
     "text": [
      "Blue\n"
     ]
    },
    {
     "data": {
      "text/plain": [
       "360"
      ]
     },
     "execution_count": 13,
     "metadata": {},
     "output_type": "execute_result"
    }
   ],
   "source": [
    "class Cars:\n",
    "    def __init__(self,colour,speed):\n",
    "        self.colour = colour\n",
    "        self.speed = speed\n",
    "        \n",
    "    def calculate_speed_golf(self):\n",
    "        return(2*self.speed)\n",
    "\n",
    "golf_ = Cars(\"Blue\",180)\n",
    "print(golf_.colour)\n",
    "golf_.calculate_speed_golf()\n"
   ]
  },
  {
   "cell_type": "code",
   "execution_count": null,
   "id": "f29a1494",
   "metadata": {},
   "outputs": [],
   "source": []
  }
 ],
 "metadata": {
  "kernelspec": {
   "display_name": "Python 3 (ipykernel)",
   "language": "python",
   "name": "python3"
  },
  "language_info": {
   "codemirror_mode": {
    "name": "ipython",
    "version": 3
   },
   "file_extension": ".py",
   "mimetype": "text/x-python",
   "name": "python",
   "nbconvert_exporter": "python",
   "pygments_lexer": "ipython3",
   "version": "3.9.7"
  },
  "toc": {
   "base_numbering": 1,
   "nav_menu": {},
   "number_sections": true,
   "sideBar": true,
   "skip_h1_title": false,
   "title_cell": "Table of Contents",
   "title_sidebar": "Contents",
   "toc_cell": false,
   "toc_position": {},
   "toc_section_display": true,
   "toc_window_display": false
  }
 },
 "nbformat": 4,
 "nbformat_minor": 5
}
