{
 "cells": [
  {
   "cell_type": "markdown",
   "id": "b7aff088",
   "metadata": {},
   "source": [
    "## Variables"
   ]
  },
  {
   "cell_type": "code",
   "execution_count": 1,
   "id": "8e014273",
   "metadata": {},
   "outputs": [],
   "source": [
    "# Variables store string names and numbers.Variable is a place holder where you can store values\n",
    "name = \"Malusi Sibiya\"\n",
    "age = 42\n",
    "number = [1,2,3,4 ]"
   ]
  },
  {
   "cell_type": "code",
   "execution_count": 2,
   "id": "408e956f",
   "metadata": {},
   "outputs": [],
   "source": [
    "age: int = 40 # If you want to declare a variable you use :, otherwise Python automatically understands what you assign to a variable"
   ]
  },
  {
   "cell_type": "code",
   "execution_count": 3,
   "id": "463b6834",
   "metadata": {},
   "outputs": [
    {
     "data": {
      "text/plain": [
       "80"
      ]
     },
     "execution_count": 3,
     "metadata": {},
     "output_type": "execute_result"
    }
   ],
   "source": [
    "age*2"
   ]
  },
  {
   "cell_type": "code",
   "execution_count": 4,
   "id": "0f2d3660",
   "metadata": {},
   "outputs": [],
   "source": [
    "name: str = \"Malusi Sibiya\"  # If you want to declare a variable you use :, otherwise Python automatically understands what you assign to a variable"
   ]
  },
  {
   "cell_type": "code",
   "execution_count": 5,
   "id": "fdbf0f22",
   "metadata": {},
   "outputs": [],
   "source": [
    "names: list= [\n",
    "    \"Car\", \"Number Plate\", \"Blur Number Plate\", \"Two Wheeler\", \"Auto\", \"Bus\", \"Truck\"\n",
    "] "
   ]
  },
  {
   "cell_type": "code",
   "execution_count": 6,
   "id": "bdccf88b",
   "metadata": {},
   "outputs": [
    {
     "data": {
      "text/plain": [
       "'Malusi Sibiya'"
      ]
     },
     "execution_count": 6,
     "metadata": {},
     "output_type": "execute_result"
    }
   ],
   "source": [
    "name"
   ]
  },
  {
   "cell_type": "code",
   "execution_count": 7,
   "id": "d801e7ac",
   "metadata": {},
   "outputs": [],
   "source": [
    "# Naming variables\n",
    "# Camel casing and under scores are used\n",
    "name_and_surname = \"Malu Sibiya\" # Using under scores\n",
    "nameAndSurname = \"Malusi Sibiya\" # Using camel casing\n"
   ]
  },
  {
   "cell_type": "code",
   "execution_count": 8,
   "id": "ee664b7f",
   "metadata": {},
   "outputs": [
    {
     "name": "stdout",
     "output_type": "stream",
     "text": [
      "<class 'str'>\n",
      "<class 'list'>\n",
      "<class 'int'>\n",
      "<class 'bool'>\n"
     ]
    }
   ],
   "source": [
    "# Variable data  types\n",
    "#You can check the data types by using a type function\n",
    "brand = \"ford\"\n",
    "numbers = []\n",
    "age = 2\n",
    "isAdult = True\n",
    "\n",
    "print(type(brand)) # Checking the data type of the variable brand\n",
    "print(type(numbers))# Checking the data type of the variable numbers\n",
    "print(type(age))# Checking the data type of the variable age\n",
    "print(type(isAdult))"
   ]
  },
  {
   "cell_type": "markdown",
   "id": "26c3e18b",
   "metadata": {},
   "source": [
    "## Dynamically type"
   ]
  },
  {
   "cell_type": "code",
   "execution_count": 9,
   "id": "16a9fd8c",
   "metadata": {},
   "outputs": [],
   "source": [
    "# You can use functions for instance as follows:\n",
    "def hello() -> int:  # You are making this function to return an integer\n",
    "    return \"Good morning\""
   ]
  },
  {
   "cell_type": "code",
   "execution_count": 10,
   "id": "31cf09f5",
   "metadata": {},
   "outputs": [
    {
     "data": {
      "text/plain": [
       "str"
      ]
     },
     "execution_count": 10,
     "metadata": {},
     "output_type": "execute_result"
    }
   ],
   "source": [
    "type(hello())"
   ]
  },
  {
   "cell_type": "markdown",
   "id": "24aea746",
   "metadata": {},
   "source": [
    "## Strings"
   ]
  },
  {
   "cell_type": "code",
   "execution_count": 11,
   "id": "7b7528b5",
   "metadata": {},
   "outputs": [
    {
     "name": "stdout",
     "output_type": "stream",
     "text": [
      "4\n"
     ]
    }
   ],
   "source": [
    "#Strings have a buch of methods that can be accessed after the dot operator or with the string variable in paranthesis\n",
    "print(len(brand))"
   ]
  },
  {
   "cell_type": "code",
   "execution_count": 12,
   "id": "cb505bd5",
   "metadata": {},
   "outputs": [
    {
     "data": {
      "text/plain": [
       "'Ford'"
      ]
     },
     "execution_count": 12,
     "metadata": {},
     "output_type": "execute_result"
    }
   ],
   "source": [
    "brand.capitalize()"
   ]
  },
  {
   "cell_type": "code",
   "execution_count": 13,
   "id": "27ce5141",
   "metadata": {},
   "outputs": [
    {
     "data": {
      "text/plain": [
       "'\\nThe lines of comments are done within these qoutes'"
      ]
     },
     "execution_count": 13,
     "metadata": {},
     "output_type": "execute_result"
    }
   ],
   "source": [
    "# You can comment out the lines of sentences.\n",
    "\n",
    "\"\"\"\n",
    "The lines of comments are done within these qoutes\"\"\""
   ]
  },
  {
   "cell_type": "code",
   "execution_count": 14,
   "id": "32e441e9",
   "metadata": {},
   "outputs": [],
   "source": [
    "surname= \"Sibiya\""
   ]
  },
  {
   "cell_type": "code",
   "execution_count": 15,
   "id": "e00d2e55",
   "metadata": {},
   "outputs": [],
   "source": [
    "email = \"\"\" {},You are hired.Hooray\"\"\""
   ]
  },
  {
   "cell_type": "code",
   "execution_count": 16,
   "id": "2418a2da",
   "metadata": {},
   "outputs": [
    {
     "name": "stdout",
     "output_type": "stream",
     "text": [
      " Sibiya,You are hired.Hooray\n"
     ]
    }
   ],
   "source": [
    "print(email.format(surname))"
   ]
  },
  {
   "cell_type": "code",
   "execution_count": 17,
   "id": "a811ab49",
   "metadata": {},
   "outputs": [],
   "source": [
    "surname_2 = \"Rasmeni\""
   ]
  },
  {
   "cell_type": "code",
   "execution_count": 18,
   "id": "c75909f2",
   "metadata": {},
   "outputs": [],
   "source": [
    "emali_2 = f\"\"\" {surname_2} We have the buglary suspects\"\"\""
   ]
  },
  {
   "cell_type": "code",
   "execution_count": 19,
   "id": "e2a7b18a",
   "metadata": {},
   "outputs": [
    {
     "name": "stdout",
     "output_type": "stream",
     "text": [
      " Rasmeni We have the buglary suspects\n"
     ]
    }
   ],
   "source": [
    "print(emali_2)"
   ]
  },
  {
   "cell_type": "markdown",
   "id": "52b9fff5",
   "metadata": {},
   "source": [
    "## Indentation"
   ]
  },
  {
   "cell_type": "code",
   "execution_count": 20,
   "id": "f5e90d04",
   "metadata": {},
   "outputs": [],
   "source": [
    "# Used after declaring a function\n",
    "# Cannot be done anywhere\n"
   ]
  },
  {
   "cell_type": "markdown",
   "id": "cb8e8188",
   "metadata": {},
   "source": [
    "## Reserved keywords"
   ]
  },
  {
   "cell_type": "code",
   "execution_count": 21,
   "id": "54f34734",
   "metadata": {},
   "outputs": [
    {
     "name": "stdout",
     "output_type": "stream",
     "text": [
      "['False', 'None', 'True', '__peg_parser__', 'and', 'as', 'assert', 'async', 'await', 'break', 'class', 'continue', 'def', 'del', 'elif', 'else', 'except', 'finally', 'for', 'from', 'global', 'if', 'import', 'in', 'is', 'lambda', 'nonlocal', 'not', 'or', 'pass', 'raise', 'return', 'try', 'while', 'with', 'yield']\n"
     ]
    }
   ],
   "source": [
    "# They are reserved for use in python and cannot be used as variables\n",
    "import keyword\n",
    "print(keyword.kwlist)"
   ]
  },
  {
   "cell_type": "code",
   "execution_count": 22,
   "id": "2ce3ffed",
   "metadata": {},
   "outputs": [
    {
     "name": "stdout",
     "output_type": "stream",
     "text": [
      "False\n"
     ]
    }
   ],
   "source": [
    "print(keyword.iskeyword(\"Malusi\"))# Check if Mausi is a keyword"
   ]
  },
  {
   "cell_type": "code",
   "execution_count": 23,
   "id": "7de2c320",
   "metadata": {},
   "outputs": [
    {
     "name": "stdout",
     "output_type": "stream",
     "text": [
      "[]\n"
     ]
    }
   ],
   "source": [
    "print(keyword.softkwlist)"
   ]
  },
  {
   "cell_type": "code",
   "execution_count": 24,
   "id": "e568d899",
   "metadata": {},
   "outputs": [
    {
     "name": "stdout",
     "output_type": "stream",
     "text": [
      "['False', 'None', 'True', '__peg_parser__', 'and', 'as', 'assert', 'async', 'await', 'break', 'class', 'continue', 'def', 'del', 'elif', 'else', 'except', 'finally', 'for', 'from', 'global', 'if', 'import', 'in', 'is', 'lambda', 'nonlocal', 'not', 'or', 'pass', 'raise', 'return', 'try', 'while', 'with', 'yield']\n"
     ]
    }
   ],
   "source": [
    "print(keyword.kwlist)"
   ]
  },
  {
   "cell_type": "markdown",
   "id": "54e84a86",
   "metadata": {},
   "source": [
    "## Comparison operators"
   ]
  },
  {
   "cell_type": "code",
   "execution_count": 25,
   "id": "799e21c3",
   "metadata": {},
   "outputs": [
    {
     "name": "stdout",
     "output_type": "stream",
     "text": [
      "Number is negative\n"
     ]
    }
   ],
   "source": [
    "#if statements\n",
    "\n",
    "number = -10\n",
    "\n",
    "if number >= 0:\n",
    "    print(\"number is positver\")\n",
    "else:\n",
    "    print (\"Number is negative\")"
   ]
  },
  {
   "cell_type": "code",
   "execution_count": 26,
   "id": "97cb1428",
   "metadata": {},
   "outputs": [
    {
     "name": "stdout",
     "output_type": "stream",
     "text": [
      "number is positver\n"
     ]
    }
   ],
   "source": [
    "\n",
    "number = 0\n",
    "\n",
    "if number >= 0:\n",
    "    print(\"number is positver\")\n",
    "else:\n",
    "    print (\"Number is negative\")"
   ]
  },
  {
   "cell_type": "code",
   "execution_count": 27,
   "id": "9fd1845b",
   "metadata": {},
   "outputs": [
    {
     "name": "stdout",
     "output_type": "stream",
     "text": [
      "Number is negative or positive out of 0 to 1 range\n"
     ]
    }
   ],
   "source": [
    "number = 1\n",
    "\n",
    "if  0<=number > 1:\n",
    "    print(\"number is positver\")\n",
    "elif 0<number<1:\n",
    "    print(\"Number is a decimal number between 0 and 1\")\n",
    "else:\n",
    "    print (\"Number is negative or positive out of 0 to 1 range\")"
   ]
  },
  {
   "cell_type": "code",
   "execution_count": 28,
   "id": "b78057bd",
   "metadata": {},
   "outputs": [],
   "source": [
    "#Terinary if statements\n",
    "data = 9\n",
    "message = \"\"\"The data is valid\"\"\" if data>=10 else \"\"\"The data is not valid\"\"\""
   ]
  },
  {
   "cell_type": "code",
   "execution_count": 29,
   "id": "d21a6dc3",
   "metadata": {},
   "outputs": [
    {
     "name": "stdout",
     "output_type": "stream",
     "text": [
      "The data is not valid\n"
     ]
    }
   ],
   "source": [
    "print(message)"
   ]
  },
  {
   "cell_type": "code",
   "execution_count": null,
   "id": "e08c6112",
   "metadata": {},
   "outputs": [],
   "source": [
    "del nu"
   ]
  }
 ],
 "metadata": {
  "kernelspec": {
   "display_name": "Python 3 (ipykernel)",
   "language": "python",
   "name": "python3"
  },
  "language_info": {
   "codemirror_mode": {
    "name": "ipython",
    "version": 3
   },
   "file_extension": ".py",
   "mimetype": "text/x-python",
   "name": "python",
   "nbconvert_exporter": "python",
   "pygments_lexer": "ipython3",
   "version": "3.9.7"
  },
  "toc": {
   "base_numbering": 1,
   "nav_menu": {},
   "number_sections": true,
   "sideBar": true,
   "skip_h1_title": false,
   "title_cell": "Table of Contents",
   "title_sidebar": "Contents",
   "toc_cell": false,
   "toc_position": {},
   "toc_section_display": true,
   "toc_window_display": false
  }
 },
 "nbformat": 4,
 "nbformat_minor": 5
}
